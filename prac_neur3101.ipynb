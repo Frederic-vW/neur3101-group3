{
 "cells": [
  {
   "cell_type": "markdown",
   "metadata": {},
   "source": [
    "<div style=\"color:blue; font-size: 24px; text-align:left\"><strong>Step 1: Load the program!</strong></div>"
   ]
  },
  {
   "cell_type": "code",
   "execution_count": null,
   "metadata": {},
   "outputs": [],
   "source": [
    "from prac_neur3101 import *\n",
    "dt = 0.05 # sampling/integration interval\n",
    "print(\"All functions loaded!\")"
   ]
  },
  {
   "cell_type": "markdown",
   "metadata": {},
   "source": [
    "# Part I: From spiking neurons to central pattern generators\n",
    "\n",
    "\n",
    "## Theory\n",
    "The model neurons used in this practical are based on the computational **Morris-Lecar model**, which was created to reproduce action potentials observed experimentally in the giant muscle fiber of the barnacle (*balanus nubilus*).\n",
    "\n",
    "The model contains three currents:\n",
    "1. a voltage-dependent, depolarizing Ca<sup>2+</sup> current,\n",
    "2. a voltage-dependent, repolarizing K<sup>+</sup> current,\n",
    "3. a so-called \"leak current\" (not voltage dependent), summarizing several other channels (e.g. non-specific cation channels and Cl<sup>-</sup> conductances) \n",
    "\n",
    "The electrophysiological properties of the model neurons are represented by this circuit:\n",
    "\n",
    "<img src=\"img/ML_circuit.png\" width=350>\n",
    "\n",
    "The Morris-Lecar model contains two variables:\n",
    "1. $V$: is the potential difference (voltage) across the membrane, its change depends on \n",
    "    - the membrane capacitance $C$ \n",
    "    - the three currents described above and \n",
    "    - an external current controlled by the experimenter): $I(t)$  \n",
    "2. $w$: is the fraction of open K<sup>+</sup> channels ($w \\in [0,1]$) at a given voltage $V$  \n",
    "\n",
    "**Reference**:  \n",
    "\n",
    "Morris C and Lecar H, \"Voltage oscillations in the barnacle giant muscle fiber\". Biophys. J. 35, 193--213 (1981)"
   ]
  },
  {
   "cell_type": "markdown",
   "metadata": {},
   "source": [
    "## Experiment 1: neuronal response to short current pulses"
   ]
  },
  {
   "cell_type": "markdown",
   "metadata": {},
   "source": [
    "### a) Depolarizing currents\n",
    "\n",
    "In this experiment, experiment with depolarizing currents of different amplitudes and durations."
   ]
  },
  {
   "cell_type": "markdown",
   "metadata": {},
   "source": [
    "<div style=\"color:blue; font-size: 24px; text-align:left\"><strong>Set your input current and duration:</strong></div>"
   ]
  },
  {
   "cell_type": "markdown",
   "metadata": {},
   "source": [
    "- Input current: `I0`\n",
    "- Current start, stop: `t_on`, `t_off`"
   ]
  },
  {
   "cell_type": "code",
   "execution_count": null,
   "metadata": {},
   "outputs": [],
   "source": [
    "I0 = 0  # input current [µA/cm^2]\n",
    "t_on = 50  # current start time [ms]\n",
    "t_off = 70  # current end time [ms]\n",
    "print(f\"Stimulation current [{t_on:.1f}-{t_off:.1f} ms]: {I0:.2f} µA/cm2\")"
   ]
  },
  {
   "cell_type": "markdown",
   "metadata": {},
   "source": [
    "Run the model:"
   ]
  },
  {
   "cell_type": "code",
   "execution_count": null,
   "metadata": {},
   "outputs": [],
   "source": [
    "T = 500  # total simulation time [ms]\n",
    "i_on, i_off = int(t_on/dt), int(t_off/dt)\n",
    "I_ext = np.zeros(int(T/dt))\n",
    "I_ext[i_on:i_off] = I0\n",
    "params = {'T': T, 'dt': dt, 'sd': 0.05, 'I_ext': I_ext, 'doplot': True}\n",
    "X, Y = ml1(**params)\n",
    "print(f\"Max voltage: V = {X.max():.2f} mV\")"
   ]
  },
  {
   "cell_type": "markdown",
   "metadata": {},
   "source": [
    "### b) Hyperpolarizing currents\n",
    "\n",
    "Test the effects of a transient hyperpolarization.  \n",
    "1. Select a current `I0` just below the action potential threshold.  \n",
    "  - Verify that you are sub-threshold by setting `I0` and `I1` to the same value and run the model: no action potentials should occur.\n",
    "  - Increase `I0` and `I1` by $10 \\; µA/cm^2$: one or more action potentials should occur\n",
    "2. Leave `I0` at the sub-threshold value, and set `I1` to a significantly smaller value: observe the effects"
   ]
  },
  {
   "cell_type": "markdown",
   "metadata": {},
   "source": [
    "<div style=\"color:blue; font-size: 24px; text-align:left\"><strong>Set your input current and duration:</strong></div>"
   ]
  },
  {
   "cell_type": "code",
   "execution_count": null,
   "metadata": {},
   "outputs": [],
   "source": [
    "I0 = 0  # sub-threshold current [µA/cm^2]\n",
    "I1 = 0  # hyperpolarizing current [µA/cm^2] \n",
    "t_on = 200  # hyperpolarizing current start [ms]\n",
    "t_off = 300  # hyperpolarizing current stop [ms]"
   ]
  },
  {
   "cell_type": "markdown",
   "metadata": {},
   "source": [
    "Run the model:"
   ]
  },
  {
   "cell_type": "code",
   "execution_count": null,
   "metadata": {},
   "outputs": [],
   "source": [
    "T = 1000  # total simulation time [ms]\n",
    "i_on, i_off = int(t_on/dt), int(t_off/dt)\n",
    "I_ext = I0*np.ones(int(T/dt))\n",
    "I_ext[i_on:i_off] = I1\n",
    "params = {'T': T, 'dt': dt, 'sd': 0.05, 'v0': -40, 'w0': 0.1, 'I_ext': I_ext, 'doplot': True}\n",
    "X, Y = ml1(**params)"
   ]
  },
  {
   "cell_type": "markdown",
   "metadata": {},
   "source": [
    "### c) Double current pulses\n",
    "\n",
    "Try different inter-stimulus intervals to observe refractory behaviour."
   ]
  },
  {
   "cell_type": "markdown",
   "metadata": {},
   "source": [
    "<div style=\"color:blue; font-size: 24px; text-align:left\"><strong>Set your input current and duration:</strong></div>"
   ]
  },
  {
   "cell_type": "code",
   "execution_count": null,
   "metadata": {},
   "outputs": [],
   "source": [
    "I0 = 0  # current amplitude of first pulse [µA/cm^2]\n",
    "I1 = 0  # current amplitude of second pulse [µA/cm^2]\n",
    "t_on_0, t_off_0 = 20, 40  # first pulse start/stop time [ms]\n",
    "t_on_1, t_off_1 = 420, 440  # second pulse start/stop time [ms]"
   ]
  },
  {
   "cell_type": "markdown",
   "metadata": {},
   "source": [
    "Run the model:"
   ]
  },
  {
   "cell_type": "code",
   "execution_count": null,
   "metadata": {},
   "outputs": [],
   "source": [
    "T = 500  # total simulation time [ms]\n",
    "i_on_0, i_off_0 = int(t_on_0/dt), int(t_off_0/dt)\n",
    "i_on_1, i_off_1 = int(t_on_1/dt), int(t_off_1/dt)\n",
    "I_ext = np.zeros(int(T/dt))\n",
    "I_ext[i_on_0:i_off_0] = I0\n",
    "I_ext[i_on_1:i_off_1] = I1\n",
    "params = {'T': T, 'dt': dt, 'sd': 0.05, 'I_ext': I_ext, 'doplot': True}\n",
    "X, Y = ml1(**params)"
   ]
  },
  {
   "cell_type": "markdown",
   "metadata": {},
   "source": [
    "## Experiment 2: neuronal response to continuous currents\n",
    "\n",
    "In this section, we do not use current pulses but ongoing currents, these can be held at a steady value, or follow a linear trend (de- or increasing).\n"
   ]
  },
  {
   "cell_type": "markdown",
   "metadata": {},
   "source": [
    "### a) Constant currents\n",
    "\n",
    "In this experiment, select a current amplitude `I0` and let this current act on the neuron during the whole experiment.  \n",
    "\n",
    "Vary the current `I0` from sub- to suprathreshold, relative to the action potential threshold defined in experiment 1a)."
   ]
  },
  {
   "cell_type": "markdown",
   "metadata": {},
   "source": [
    "<div style=\"color:blue; font-size: 24px; text-align:left\"><strong>Set your input current:</strong></div>"
   ]
  },
  {
   "cell_type": "code",
   "execution_count": null,
   "metadata": {},
   "outputs": [],
   "source": [
    "I0 = 0.0  # stimulation current [µA/cm^2]"
   ]
  },
  {
   "cell_type": "markdown",
   "metadata": {},
   "source": [
    "Run the model:"
   ]
  },
  {
   "cell_type": "code",
   "execution_count": null,
   "metadata": {},
   "outputs": [],
   "source": [
    "T = 500  # total simulation time [ms]\n",
    "I_ext = I0*np.ones(int(T/dt))\n",
    "params = {'T': T, 'dt': dt, 'sd': 0.05, 'I_ext': I_ext, 'v0': 10, 'w0': 0.2, 'doplot': True}\n",
    "X, Y = ml1(**params)"
   ]
  },
  {
   "cell_type": "markdown",
   "metadata": {},
   "source": [
    "### b) Current ramps\n",
    "\n",
    "In this section, we use a current that runs linearly from `I_start` to `I_end`. If `I_end` is larger than `I_start` the current will be an increasing ramp."
   ]
  },
  {
   "cell_type": "markdown",
   "metadata": {},
   "source": [
    "<div style=\"color:blue; font-size: 24px; text-align:left\"><strong>Set your start and end input current values:</strong></div>"
   ]
  },
  {
   "cell_type": "markdown",
   "metadata": {},
   "source": [
    "- `I_start`: start current\n",
    "- `I_end`: end current\n",
    "\n",
    "The stimulation current will increase linearly (ramp) from the start to the end value."
   ]
  },
  {
   "cell_type": "code",
   "execution_count": null,
   "metadata": {},
   "outputs": [],
   "source": [
    "I_start = 0  # current ramp start value [µA/cm^2]\n",
    "I_end = 0  # current ramp end value [µA/cm^2]"
   ]
  },
  {
   "cell_type": "markdown",
   "metadata": {},
   "source": [
    "Run the model:"
   ]
  },
  {
   "cell_type": "code",
   "execution_count": null,
   "metadata": {},
   "outputs": [],
   "source": [
    "T = 1000  # total simulation time [ms]\n",
    "I_ext = np.linspace(I_start, I_end, int(T/dt))\n",
    "params = {'T': T, 'dt': dt, 'sd': 0.1, 'I_ext': I_ext, 'v0':-20, 'w0':0.13, 'doplot': True}\n",
    "X, Y = ml1(**params)"
   ]
  },
  {
   "cell_type": "markdown",
   "metadata": {},
   "source": [
    "## Experiment 3: Two coupled neurons\n",
    "\n",
    "Now that we have a basic understanding of what the model is capable of, let's turn to the smallest possible network: 2 coupled neurons.\n",
    "\n",
    "### Excitatory coupling\n",
    "\n",
    "Two neurons are connected to each other, and each neuron has an *excitatory* effect on the other.  \n",
    "<img src=\"img/coupling_pos.png\" width=300>\n",
    "\n",
    "### Inhibitory coupling\n",
    "\n",
    "Two neurons are connected to each other, but their effect is mediated by *inhibitory* interneurons (small gray circles). For example, when neuron 1 fires, it activates the interneuron, and the interneurons inhibits neuron 2. Vice versa, activation of neuron 2 inhibits neuron 1, as mediated by the other inhibitory interneuron.\n",
    "<img src=\"img/coupling_neg.png\" width=300>"
   ]
  },
  {
   "cell_type": "markdown",
   "metadata": {},
   "source": [
    "### Network A\n",
    "\n",
    "Inject current into network A until the network shows regular spiking (action potentials) and formulate a hypothesis whether network A is coupled by excitatory or inhibitory connections."
   ]
  },
  {
   "cell_type": "markdown",
   "metadata": {},
   "source": [
    "<div style=\"color:blue; font-size: 24px; text-align:left\"><strong>Set your start and end input current values:</strong></div>"
   ]
  },
  {
   "cell_type": "markdown",
   "metadata": {},
   "source": [
    "- `I_start`: start current\n",
    "- `I_end`: end current\n",
    "\n",
    "The stimulation current will increase linearly (ramp) from the start to the end value."
   ]
  },
  {
   "cell_type": "code",
   "execution_count": null,
   "metadata": {},
   "outputs": [],
   "source": [
    "I_start = 0  # current ramp start value [µA/cm^2]\n",
    "I_end = 0  # current ramp end value [µA/cm^2]"
   ]
  },
  {
   "cell_type": "markdown",
   "metadata": {},
   "source": [
    "Run the model:"
   ]
  },
  {
   "cell_type": "code",
   "execution_count": null,
   "metadata": {},
   "outputs": [],
   "source": [
    "T = 1000  # total simulation time [ms]\n",
    "I_ext = np.linspace(I_start, I_end, int(T/dt))\n",
    "X0, Y0, X1, Y1 = ml2(T=T, dt=dt, n0=2000, sd=0.1, I_ext=I_ext, coupling='mode-A', doplot=True)"
   ]
  },
  {
   "cell_type": "markdown",
   "metadata": {},
   "source": [
    "### Network B\n",
    "\n",
    "Inject current into network B until the network shows regular spiking (action potentials) and formulate a hypothesis whether network B is coupled by excitatory or inhibitory connections."
   ]
  },
  {
   "cell_type": "markdown",
   "metadata": {},
   "source": [
    "<div style=\"color:blue; font-size: 24px; text-align:left\"><strong>Set your start and end input current values:</strong></div>"
   ]
  },
  {
   "cell_type": "markdown",
   "metadata": {},
   "source": [
    "- `I_start`: start current\n",
    "- `I_end`: end current\n",
    "\n",
    "The stimulation current will increase linearly (ramp) from the start to the end value."
   ]
  },
  {
   "cell_type": "code",
   "execution_count": null,
   "metadata": {},
   "outputs": [],
   "source": [
    "I_start = 0  # current ramp start value [µA/cm^2]\n",
    "I_end = 0  # current ramp end value [µA/cm^2]"
   ]
  },
  {
   "cell_type": "markdown",
   "metadata": {},
   "source": [
    "Run the model:"
   ]
  },
  {
   "cell_type": "code",
   "execution_count": null,
   "metadata": {},
   "outputs": [],
   "source": [
    "T = 1000  # total simulation time [ms]\n",
    "I_ext = np.linspace(I_start, I_end, int(T/dt))\n",
    "X0, Y0, X1, Y1 = ml2(T=T, dt=dt, n0=2000, sd=0.1, I_ext=I_ext, coupling='mode-C', doplot=True)"
   ]
  },
  {
   "cell_type": "markdown",
   "metadata": {},
   "source": [
    "## Experiment 4: a quadruped Central Pattern Generator (CPG)\n",
    "\n",
    "Computational model of a Central Pattern Generator (CPG) using 8 coupled neurons based on the Morris-Lecar model. This model has been developed and analyzed in depth in these publications:\n",
    "\n",
    "[1] Buono L and Golubitsky M, \"Models of central pattern generators for quadruped locomotion I. Primary Gaits\". J. Math. Biol. 42, 291--326 (2001)  \n",
    "[2] Buono L and Golubitsky M, \"Models of central pattern generators for quadruped locomotion II. Secondary Gaits\". J. Math. Biol. 42, 327--346 (2001)  \n",
    "\n",
    "This model contains 8 model neurons, mutually coupled as shown in this scheme:\n",
    "\n",
    "<img src=\"img/Buono_connectivity.png\" width=300>\n",
    "\n",
    "Each of the 8 cells runs the Morris-Lecar membrane model we have studied above.\n"
   ]
  },
  {
   "cell_type": "markdown",
   "metadata": {},
   "source": [
    "<div style=\"color:blue; font-size: 24px; text-align:left\"><strong>Select the model: </strong></div>"
   ]
  },
  {
   "cell_type": "code",
   "execution_count": null,
   "metadata": {},
   "outputs": [],
   "source": [
    "model = \"A\"\n",
    "print(f\"Selected model: {model:s}\")"
   ]
  },
  {
   "cell_type": "markdown",
   "metadata": {},
   "source": [
    "Run the model:"
   ]
  },
  {
   "cell_type": "code",
   "execution_count": null,
   "metadata": {
    "scrolled": false
   },
   "outputs": [],
   "source": [
    "data = ml8(T=150, dt=0.01, n0=3000, mode=model, doplot=True, doanimate=False)"
   ]
  },
  {
   "cell_type": "markdown",
   "metadata": {},
   "source": [
    "Watch some animations:\n",
    "\n",
    "### Model-1:\n",
    "<p align=\"center\">\n",
    "<video src=\"./mov/cpg_mode-1.mp4\" width=\"256\" height=\"256\" controls loop preload></video>\n",
    "</p>\n",
    "\n",
    "### Model-2\n",
    "<p align=\"center\">\n",
    "<video src=\"./mov/cpg_mode-2.mp4\" width=\"256\" height=\"256\" controls loop preload></video>\n",
    "</p>\n",
    "\n",
    "### Model-3\n",
    "<p align=\"center\">\n",
    "<video src=\"./mov/cpg_mode-3.mp4\" width=\"256\" height=\"256\" controls loop preload></video>\n",
    "</p>\n",
    "\n",
    "### Model-4\n",
    "<p align=\"center\">\n",
    "<video src=\"./mov/cpg_mode-4.mp4\" width=\"256\" height=\"256\" controls loop preload></video>\n",
    "</p>\n",
    "\n",
    "### Model-5\n",
    "<p align=\"center\">\n",
    "<video src=\"./mov/cpg_mode-5.mp4\" width=\"256\" height=\"256\" controls loop preload></video>\n",
    "</p>\n",
    "\n",
    "### Model-6\n",
    "<p align=\"center\">\n",
    "<video src=\"./mov/cpg_mode-6.mp4\" width=\"256\" height=\"256\" controls loop preload></video>\n",
    "</p>"
   ]
  },
  {
   "cell_type": "markdown",
   "metadata": {},
   "source": [
    "# Part II: Understanding population vector coding"
   ]
  },
  {
   "cell_type": "markdown",
   "metadata": {},
   "source": [
    "### Raster plots\n",
    "\n",
    "In neuroscience experiments, the activity of spiking neurons is often reduced to the times when action potentials are fired, ignoring the voltage fluctuations between the action potentials. The resulting plots are called **_raster plots_**. Their relation is best explained visually:\n",
    "\n",
    "<img src=\"img/raster_plot.png\" width=1000>\n",
    "\n",
    "<!--\n",
    "The responses from experiments:\n",
    "\n",
    "<img src=\"img/popvector_response_linear.png\" width=1000>\n",
    "\n",
    "The results could as well be drawn in a circular plot:\n",
    "\n",
    "<img src=\"img/popvector_response_circular.png\" width=500>\n",
    "-->"
   ]
  },
  {
   "cell_type": "markdown",
   "metadata": {},
   "source": [
    "### Task 1:\n",
    "Generate raster plots of 8 motor cortex neurons and reconstruct the encoded grasping direction from the average discharge rates."
   ]
  },
  {
   "cell_type": "code",
   "execution_count": null,
   "metadata": {
    "scrolled": false
   },
   "outputs": [],
   "source": [
    "raster_plot()"
   ]
  },
  {
   "cell_type": "markdown",
   "metadata": {},
   "source": [
    "<div style=\"color:blue; font-size: 24px; text-align:left\"><strong>Input your average spike rates: </strong></div>"
   ]
  },
  {
   "cell_type": "code",
   "execution_count": null,
   "metadata": {},
   "outputs": [],
   "source": [
    "spike_rate1 = 0.00\n",
    "spike_rate2 = 0.00\n",
    "spike_rate3 = 0.00\n",
    "spike_rate4 = 0.00\n",
    "spike_rate5 = 0.00\n",
    "spike_rate6 = 0.00\n",
    "spike_rate7 = 0.00\n",
    "spike_rate8 = 0.00"
   ]
  },
  {
   "cell_type": "markdown",
   "metadata": {},
   "source": [
    "Reconstruct the vector:"
   ]
  },
  {
   "cell_type": "code",
   "execution_count": null,
   "metadata": {},
   "outputs": [],
   "source": [
    "spike_rates = [spike_rate1, spike_rate2, spike_rate3, spike_rate4, spike_rate5, spike_rate6, \\\n",
    "               spike_rate7, spike_rate8]\n",
    "N = 8\n",
    "phi = 2*np.pi*np.arange(N)/N\n",
    "vs = np.zeros((N,2))\n",
    "for i in range(N):\n",
    "    vs[i] = [spike_rates[i]*np.cos(phi[i]), spike_rates[i]*np.sin(phi[i])]\n",
    "vr = np.mean(vs,axis=0)\n",
    "phi_hat = np.arctan2(vr[1],vr[0])\n",
    "print(\"phi_hat: \", phi_hat, phi_hat/(2*np.pi)*360)\n",
    "\n",
    "# Figure\n",
    "plt.figure(figsize=(8,8))\n",
    "plt.plot([0,vr[0]], [0,vr[1]], '-b', lw=5, alpha=1.0, label=\"reconstruction\")\n",
    "d = 0.5\n",
    "for i in range(N):\n",
    "    plt.plot([0,vs[i,0]], [0,vs[i,1]], '-k', lw=2, alpha=0.5)\n",
    "    plt.annotate(f\"N{i+1:d} resp.\", xy=(vs[i,0]+d, vs[i,1]+d), xycoords=\"data\", c=\"k\", fontsize=18)\n",
    "plt.grid(True)\n",
    "plt.legend(loc=2, fontsize=16)\n",
    "plt.gca().set_aspect('equal', adjustable='box')\n",
    "plt.show()"
   ]
  },
  {
   "cell_type": "markdown",
   "metadata": {},
   "source": [
    "Copy this image into your prac protocol."
   ]
  }
 ],
 "metadata": {
  "kernelspec": {
   "display_name": "Python 3",
   "language": "python",
   "name": "python3"
  },
  "language_info": {
   "codemirror_mode": {
    "name": "ipython",
    "version": 3
   },
   "file_extension": ".py",
   "mimetype": "text/x-python",
   "name": "python",
   "nbconvert_exporter": "python",
   "pygments_lexer": "ipython3",
   "version": "3.6.9"
  },
  "varInspector": {
   "cols": {
    "lenName": 16,
    "lenType": 16,
    "lenVar": 40
   },
   "kernels_config": {
    "python": {
     "delete_cmd_postfix": "",
     "delete_cmd_prefix": "del ",
     "library": "var_list.py",
     "varRefreshCmd": "print(var_dic_list())"
    },
    "r": {
     "delete_cmd_postfix": ") ",
     "delete_cmd_prefix": "rm(",
     "library": "var_list.r",
     "varRefreshCmd": "cat(var_dic_list()) "
    }
   },
   "types_to_exclude": [
    "module",
    "function",
    "builtin_function_or_method",
    "instance",
    "_Feature"
   ],
   "window_display": false
  }
 },
 "nbformat": 4,
 "nbformat_minor": 4
}
